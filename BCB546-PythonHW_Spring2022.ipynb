{
 "cells": [
  {
   "cell_type": "markdown",
   "id": "b122b2c7",
   "metadata": {},
   "source": [
    "## Python Translate Script"
   ]
  },
  {
   "cell_type": "markdown",
   "id": "cbccaefa",
   "metadata": {},
   "source": [
    "* Install\n",
    "`conda install biopython`\n",
    "`conda install seaborn`"
   ]
  },
  {
   "cell_type": "code",
   "execution_count": 1,
   "id": "5c411a39",
   "metadata": {},
   "outputs": [],
   "source": [
    "# Import\n",
    "from Bio import SeqIO\n",
    "from Bio.Seq import Seq\n",
    "from Bio.Data import CodonTable\n",
    "from Bio.SeqUtils.ProtParam import ProteinAnalysis\n",
    "import pandas as pd\n",
    "import matplotlib.pyplot as plt\n",
    "import seaborn as sns\n",
    "from collections import defaultdict"
   ]
  },
  {
   "cell_type": "markdown",
   "id": "7ff3d0f5",
   "metadata": {},
   "source": [
    "### 1. Function *get_sequences_from_file*\n",
    "\n",
    "Description: Gets the sequences from file by species name\n",
    "\n",
    "Arguments: \n",
    "fasta_n file\n",
    "\n",
    "Return: a dictionary with species name and sequence\n",
    "\n",
    "\n",
    "Output: fasta_n file with sequence by species name\n",
    "\n",
    "`def get_sequences_from_file(fasta_fn): #retrieve file fasta_fn\n",
    "    sequence_data_dict = {} #prepare dictionary for sequence data only\n",
    "    for record in SeqIO.parse(fasta_fn, \"fasta\"): #Record is the handle to iterate using SeqIO.parse within the fasta_fn file in fasta format\n",
    "        description = record.description.split() #Split the sequence description\n",
    "        species_name = description[1] + \" \" + description[2] #Put a space between each description\n",
    "        sequence_data_dict[species_name] = record.seq #Sequence data by species name\n",
    "    return(sequence_data_dict)`\n"
   ]
  },
  {
   "cell_type": "code",
   "execution_count": 2,
   "id": "54fd88a0",
   "metadata": {},
   "outputs": [
    {
     "name": "stdout",
     "output_type": "stream",
     "text": [
      "{'Aptenodytes forsteri': Seq('ATGGCCCCAAATCTCCGAAAATCCCATCCCCTCCTAAAAATAATTAATAACTCC...TAA'), 'Aptenodytes patagonicus': Seq('ATGGCCCCAAACCTCCGAAAATCCCATCCTCTCCTAAAAATAATTAATAACTCC...TAA'), 'Eudyptes chrysocome': Seq('ATGGCCCCCAACCTCCGAAAATCCCACCCCCTCCTAAAAACAATCAATAACTCC...TAA'), 'Eudyptes chrysolophus': Seq('ATGGCCCCCAACCTCCGAAAATCCCACCCCCTCCTAAAAACAATCAATAACTCC...TAA'), 'Eudyptes sclateri': Seq('ATGGCCCCCAACCTCCGAAAATCCCACCCCCTCCTAAAAACAATCAATAACTCC...TAA'), 'Eudyptula minor': Seq('ATGGCCCCCAACCTCCGAAAATCTCACCCCCTCCTAAAAATAATCAACAACTCT...TAA'), 'Pygoscelis adeliae': Seq('ATGGCCCCCAACCTCCGAAAATCCCACCCTCTCCTAAAAATAATTAACAACTCC...TAA'), 'Pygoscelis antarctica': Seq('ATGGCCCCCAACCTCCGAAAATCCCACCCTCTCCTAAAAATAATCAACAACTCC...TAG'), 'Pygoscelis papua': Seq('ATGGCCCCCAACCTTCGAAAATCCCACCCTCTCCTAAAAATAATCAACAAATCC...TAG'), 'Spheniscus demersus': Seq('ATGGCCCCCAACCTCCGAAAATCCCACCCTCTCCTAAAAACAATCAACAACTCC...TAA'), 'Spheniscus humboldti': Seq('ATGGCCCCCAACCTCCGAAAATCCCACCCTCTCCTAAAAACAATCAACAACTCC...TAA'), 'Spheniscus magellanicus': Seq('ATGGCCCCCAACCTCCGAAAATCCCACCCTCTCCTAAAAACAATCAACAACTCC...TAA')}\n"
     ]
    }
   ],
   "source": [
    "#An example\n",
    "def get_sequences_from_file(fasta_fn): \n",
    "    sequence_data_dict = {} \n",
    "    for record in SeqIO.parse(fasta_fn, \"fasta\"): \n",
    "        description = record.description.split() \n",
    "        species_name = description[1] + \" \" + description[2] \n",
    "        sequence_data_dict[species_name] = record.seq \n",
    "    return(sequence_data_dict)\n",
    "penguin_seq = get_sequences_from_file(\"penguins_cytb.fasta\")\n",
    "print(penguin_seq)"
   ]
  },
  {
   "cell_type": "markdown",
   "id": "97275755",
   "metadata": {},
   "source": [
    "## 2. Function *translate_function*\n",
    "\n",
    "Description: Translates nucleotides into amino acids, excluding stop codons\n",
    "\n",
    "Arguments: \n",
    "string_nucleotides\n",
    "\n",
    "Return: amino acid string\n",
    "\n",
    "Output: amino acid translated list\n",
    "\n",
    "Inspired by: Convert object into string with Python https://www.educba.com/python-object-to-string/\n",
    "\n",
    "`def translate_function(string_nucleotides):\n",
    "    codons = [(string_nucleotides[i:i + 3]) for i in range(0, len(string_nucleotides), 3)] # make codons a list iterate over every codon\n",
    "    aa_seq_list = [] # empty list we'll need to put amino acids into\n",
    "    stop_codons = [\"TAA\", \"TAG\", \"AGA\", \"AGG\"] \n",
    "    mito_table = CodonTable.unambiguous_dna_by_name[\"Vertebrate Mitochondrial\"]\n",
    "    for codon in codons: \n",
    "        if codon not in stop_codons:\n",
    "            aa_seq_list.append(mito_table.forward_table[codon])\n",
    "        else:\n",
    "           aa_seq_list.append(\"\")\n",
    "        #print(mito_table.forward_table[codon]) # take every amino acid from codon table and append    \n",
    "    #print(aa_seq_string)\n",
    "    #aa_seq_list.pop()\n",
    "    aa_seq_string = ''.join(aa_seq_list)\n",
    "    return(aa_seq_string)`"
   ]
  },
  {
   "cell_type": "code",
   "execution_count": 3,
   "id": "23778d16",
   "metadata": {
    "scrolled": false
   },
   "outputs": [
    {
     "name": "stdout",
     "output_type": "stream",
     "text": [
      "MAPNLRKSHPLLKMINNSLIDLPTPSNISAWWNFGSLLGICLTTQILTGLLLAMHYTADTTLAFSSVAHTCRNVQYGWLIRNLHANGASFFFICIYLHIGRGFYYGSYLYKETWNTGIILLLTLMATAFVGYVLPWGQMSFWGATVITNLFSAIPYIGQTLVEWTWGGFSVDNPTLTRFFALHFLLPFMIAGLTLIHLTFLHESGSNNPLGIVANSDKIPFHPYYSTKDILGFALMLLPLTTLALFSPNLLGDPENFTPANPLVTPPHIKPEWYFLFAYAILRSIPNKLGGVLALAASVLILFLIPLLHKSKQRTMAFRPLSQLLFWALVANLIILTWVGSQPVEHPFIIIGQLASLTYFTTLLILFPIAGALENKMLNH\n"
     ]
    }
   ],
   "source": [
    "#An example\n",
    "def translate_function(string_nucleotides):\n",
    "    codons = [(string_nucleotides[i:i + 3]) for i in range(0, len(string_nucleotides), 3)] # make codons a list iterate over every codon\n",
    "    aa_seq_list = [] # empty list we'll need to put amino acids into\n",
    "    stop_codons = [\"TAA\", \"TAG\", \"AGA\", \"AGG\"] \n",
    "    mito_table = CodonTable.unambiguous_dna_by_name[\"Vertebrate Mitochondrial\"]\n",
    "    for codon in codons: \n",
    "        if codon not in stop_codons:\n",
    "            aa_seq_list.append(mito_table.forward_table[codon])\n",
    "        else:\n",
    "           aa_seq_list.append(\"\")\n",
    "        #print(mito_table.forward_table[codon]) # take every amino acid from codon table and append    \n",
    "    #print(aa_seq_string)\n",
    "    #aa_seq_list.pop()\n",
    "    aa_seq_string = ''.join(aa_seq_list)\n",
    "    return(aa_seq_string)\n",
    "print(translate_function(penguin_seq[\"Aptenodytes forsteri\"]))\n"
   ]
  },
  {
   "cell_type": "markdown",
   "id": "53e7c1d7",
   "metadata": {},
   "source": [
    "## 3. Alternative Function Using BioPython\n",
    "\n",
    "BioPython: .translate\n",
    "\n",
    "Description: Translates nucleotides into amino acids, excluding stop codons\n",
    "\n",
    "Arguments: penguin_seq\n",
    "\n",
    "Output: amino acid translated list\n",
    "\n",
    "Inspired by: https://biopython.org/docs/1.75/api/Bio.Seq.html"
   ]
  },
  {
   "cell_type": "code",
   "execution_count": 4,
   "id": "f56ddd3b",
   "metadata": {},
   "outputs": [
    {
     "name": "stdout",
     "output_type": "stream",
     "text": [
      "MAPNLRKSHPLLKMINNSLIDLPTPSNISAWWNFGSLLGICLTTQILTGLLLAMHYTADTTLAFSSVAHTCRNVQYGWLIRNLHANGASFFFICIYLHIGRGFYYGSYLYKETWNTGIILLLTLMATAFVGYVLPWGQMSFWGATVITNLFSAIPYIGQTLVEWTWGGFSVDNPTLTRFFALHFLLPFMIAGLTLIHLTFLHESGSNNPLGIVANSDKIPFHPYYSTKDILGFALMLLPLTTLALFSPNLLGDPENFTPANPLVTPPHIKPEWYFLFAYAILRSIPNKLGGVLALAASVLILFLIPLLHKSKQRTMAFRPLSQLLFWALVANLIILTWVGSQPVEHPFIIIGQLASLTYFTTLLILFPIAGALENKMLNH\n"
     ]
    }
   ],
   "source": [
    "mito_table = CodonTable.unambiguous_dna_by_name[\"Vertebrate Mitochondrial\"]\n",
    "coding_dna = penguin_seq['Aptenodytes forsteri']\n",
    "print(coding_dna.translate(table=mito_table, cds=True))"
   ]
  },
  {
   "cell_type": "markdown",
   "id": "1d81c9e8",
   "metadata": {},
   "source": [
    "## 4. Function *compute_molecular_weight*\n",
    "\n",
    "Description: Computes molecular weight from amino acids\n",
    "\n",
    "Arguments: biopy_aa_seq_string\n",
    "\n",
    "Return: mol_weight\n",
    "\n",
    "Output: molecular weight integer\n",
    "\n",
    "\n",
    "Inspired by: https://biopython.org/docs/1.75/api/Bio.Seq.html and https://biopython.org/wiki/ProtParam\n",
    "\n",
    "`def compute_molecular_weight(biopy_aa_seq_string):\n",
    "    prot_analysis = ProteinAnalysis(biopy_aa_seq_string)\n",
    "    mol_weight = prot_analysis.molecular_weight()\n",
    "    return(mol_weight)`"
   ]
  },
  {
   "cell_type": "code",
   "execution_count": 5,
   "id": "6d465990",
   "metadata": {},
   "outputs": [
    {
     "name": "stdout",
     "output_type": "stream",
     "text": [
      "42459.602100000004\n"
     ]
    }
   ],
   "source": [
    "#Example using 1 species\n",
    "def compute_molecular_weight(biopy_aa_seq_string):\n",
    "    prot_analysis = ProteinAnalysis(biopy_aa_seq_string)\n",
    "    mol_weight = prot_analysis.molecular_weight()\n",
    "    return(mol_weight)\n",
    "translate_A_forsteri = translate_function(penguin_seq[\"Aptenodytes forsteri\"])\n",
    "mol_weight_A_forsteri = compute_molecular_weight(translate_A_forsteri)\n",
    "print(mol_weight_A_forsteri)"
   ]
  },
  {
   "cell_type": "code",
   "execution_count": 6,
   "id": "838e3190",
   "metadata": {},
   "outputs": [
    {
     "data": {
      "text/plain": [
       "42459.602100000004"
      ]
     },
     "execution_count": 6,
     "metadata": {},
     "output_type": "execute_result"
    }
   ],
   "source": [
    "#Easy way to check if function worked using Biopython\n",
    "protein_seq = (translate_A_forsteri)\n",
    "analysed_seq = ProteinAnalysis(protein_seq)\n",
    "analysed_seq.molecular_weight()"
   ]
  },
  {
   "cell_type": "markdown",
   "id": "00a964e6",
   "metadata": {},
   "source": [
    "## 5.  Function *gc_count*\n",
    "\n",
    "Description: Computes percent G and C nucleotides from nucleotide sequence\n",
    "\n",
    "Arguments: string_nucleotides\n",
    "\n",
    "Return: gc_percent\n",
    "\n",
    "Output: gc_count\n",
    "\n",
    "Inspired by: https://biopython.org/docs/1.75/api/Bio.SeqUtils.ProtParam.html\n",
    "\n",
    "`def gc_count(string_nucleotides):\n",
    "    G_content = string_nucleotides.count('G') \n",
    "    C_content = string_nucleotides.count('C')\n",
    "    gc_total = (G_content + C_content)\n",
    "    gc_percent = ((gc_total/len(string_nucleotides))*100)\n",
    "    return(gc_percent)`"
   ]
  },
  {
   "cell_type": "code",
   "execution_count": 7,
   "id": "eba3422d",
   "metadata": {},
   "outputs": [
    {
     "name": "stdout",
     "output_type": "stream",
     "text": [
      "48.38145231846019\n"
     ]
    }
   ],
   "source": [
    "#An example\n",
    "def gc_count(string_nucleotides):\n",
    "    G_content = string_nucleotides.count('G') \n",
    "    C_content = string_nucleotides.count('C')\n",
    "    gc_total = (G_content + C_content)\n",
    "    gc_percent = ((gc_total/len(string_nucleotides))*100)\n",
    "    return(gc_percent)\n",
    "print(gc_count(penguin_seq[\"Aptenodytes forsteri\"]))"
   ]
  },
  {
   "cell_type": "code",
   "execution_count": 8,
   "id": "91ca52cf",
   "metadata": {},
   "outputs": [
    {
     "data": {
      "text/plain": [
       "40.0"
      ]
     },
     "execution_count": 8,
     "metadata": {},
     "output_type": "execute_result"
    }
   ],
   "source": [
    "#Example, double check the function as percent; likley different due to \"GC\" being a float of 0-100. \n",
    "from Bio.SeqUtils import GC\n",
    "GC(penguin_seq[\"Aptenodytes forsteri\"])\n",
    "40.0"
   ]
  },
  {
   "cell_type": "markdown",
   "id": "394874ab",
   "metadata": {},
   "source": [
    "# 6. Add Columns to Dataframe\n",
    "\n",
    "Inspired by: https://www.stackvidhya.com/how-to-add-an-empty-column-to-pandas-dataframe/"
   ]
  },
  {
   "cell_type": "code",
   "execution_count": 9,
   "id": "99a8e9f7",
   "metadata": {},
   "outputs": [],
   "source": [
    "# Gives names to .fasta and .csv files, turns df to list\n",
    "cytb_seqs = get_sequences_from_file(\"penguins_cytb.fasta\") \n",
    "penguins_df = pd.read_csv(\"penguins_mass.csv\")\n",
    "species_list = list(penguins_df.species)"
   ]
  },
  {
   "cell_type": "code",
   "execution_count": 10,
   "id": "adfdafdd",
   "metadata": {},
   "outputs": [
    {
     "name": "stdout",
     "output_type": "stream",
     "text": [
      "                    species   mass mol_weight gc_count\n",
      "0      Aptenodytes forsteri  28.00        NaN      NaN\n",
      "1   Aptenodytes patagonicus  13.40        NaN      NaN\n",
      "2       Eudyptes chrysocome   2.80        NaN      NaN\n",
      "3     Eudyptes chrysolophus   4.50        NaN      NaN\n",
      "4         Eudyptes sclateri   4.25        NaN      NaN\n",
      "5           Eudyptula minor   1.60        NaN      NaN\n",
      "6        Pygoscelis adeliae   4.60        NaN      NaN\n",
      "7     Pygoscelis antarctica   4.10        NaN      NaN\n",
      "8          Pygoscelis papua   6.10        NaN      NaN\n",
      "9       Spheniscus demersus   3.20        NaN      NaN\n",
      "10     Spheniscus humboldti   4.75        NaN      NaN\n",
      "11  Spheniscus magellanicus   3.40        NaN      NaN\n"
     ]
    }
   ],
   "source": [
    "# Make a copy of the dataframe, add columns with \"NaN values\"\n",
    "penguins_df_copy = penguins_df.copy()\n",
    "penguins_df_copy[\"mol_weight\"] = \"NaN\"\n",
    "penguins_df_copy[\"gc_count\"] = \"NaN\"\n",
    "print(penguins_df_copy)"
   ]
  },
  {
   "cell_type": "markdown",
   "id": "251d3132",
   "metadata": {},
   "source": [
    "# 7. For Loop: Translates, Computes Molecular Weight & GC Content\n",
    "\n",
    "Inspired by https://stackoverflow.com/questions/24036911/how-to-update-values-in-a-specific-row-in-a-python-pandas-dataframe"
   ]
  },
  {
   "cell_type": "code",
   "execution_count": 11,
   "id": "11963ffd",
   "metadata": {},
   "outputs": [
    {
     "name": "stdout",
     "output_type": "stream",
     "text": [
      "                    species   mass  mol_weight   gc_count\n",
      "0      Aptenodytes forsteri  28.00  42459.6021  48.381452\n",
      "1   Aptenodytes patagonicus  13.40  42563.7067  49.693788\n",
      "2       Eudyptes chrysocome   2.80  42475.5753  51.181102\n",
      "3     Eudyptes chrysolophus   4.50  42445.5493  50.918635\n",
      "4         Eudyptes sclateri   4.25  42475.5753  50.831146\n",
      "5           Eudyptula minor   1.60  42491.6408  49.256343\n",
      "6        Pygoscelis adeliae   4.60   42458.614  49.081365\n",
      "7     Pygoscelis antarctica   4.10  42404.5423  47.769029\n",
      "8          Pygoscelis papua   6.10  42595.8759  47.156605\n",
      "9       Spheniscus demersus   3.20   42431.549  48.293963\n",
      "10     Spheniscus humboldti   4.75   42399.552  49.256343\n",
      "11  Spheniscus magellanicus   3.40  42459.6021  48.206474\n"
     ]
    }
   ],
   "source": [
    "for species, sequence in cytb_seqs.items():\n",
    "    aa_seq = translate_function(sequence) # from function 2\n",
    "    mol_weight = compute_molecular_weight(aa_seq) # from function 4\n",
    "    gc_content = gc_count(sequence) # from function 5\n",
    "    penguins_df_copy.loc[penguins_df_copy[\"species\"] == species, \"mol_weight\"] = mol_weight\n",
    "    penguins_df_copy.loc[penguins_df_copy[\"species\"] == species, \"gc_count\"] = gc_content\n",
    "    # get it into data frame\n",
    "print(penguins_df_copy)"
   ]
  },
  {
   "cell_type": "markdown",
   "id": "c4154f78",
   "metadata": {},
   "source": [
    "## 8. Plot a Bar Chart with Mass and Species\n",
    "\n",
    "Inspired from how to make a barplot: https://seaborn.pydata.org/generated/seaborn.barplot.html \n",
    "How to set axis labels: https://www.delftstack.com/howto/seaborn/set-axis-labels-seaborn-python/and \n",
    "How to rotate axis labels: https://drawingfromdata.com/seaborn/matplotlib/visualization/rotate-axis-labels-matplotlib-seaborn.html\n"
   ]
  },
  {
   "cell_type": "code",
   "execution_count": 12,
   "id": "e9fa8070",
   "metadata": {},
   "outputs": [
    {
     "data": {
      "text/plain": [
       "[Text(0, 0, 'Aptenodytes forsteri'),\n",
       " Text(1, 0, 'Aptenodytes patagonicus'),\n",
       " Text(2, 0, 'Eudyptes chrysocome'),\n",
       " Text(3, 0, 'Eudyptes chrysolophus'),\n",
       " Text(4, 0, 'Eudyptes sclateri'),\n",
       " Text(5, 0, 'Eudyptula minor'),\n",
       " Text(6, 0, 'Pygoscelis adeliae'),\n",
       " Text(7, 0, 'Pygoscelis antarctica'),\n",
       " Text(8, 0, 'Pygoscelis papua'),\n",
       " Text(9, 0, 'Spheniscus demersus'),\n",
       " Text(10, 0, 'Spheniscus humboldti'),\n",
       " Text(11, 0, 'Spheniscus magellanicus')]"
      ]
     },
     "execution_count": 12,
     "metadata": {},
     "output_type": "execute_result"
    },
    {
     "data": {
      "image/png": "[encoded data removed]",
      "text/plain": [
       "<Figure size 432x288 with 1 Axes>"
      ]
     },
     "metadata": {},
     "output_type": "display_data"
    }
   ],
   "source": [
    "sns.set_theme(style=\"whitegrid\")\n",
    "ax = sns.barplot(x=\"species\", y=\"mass\", data=penguins_df_copy)\n",
    "ax.set_xlabel(\"Species\", fontsize = 15)\n",
    "ax.set_ylabel(\"Mass\", fontsize = 15)\n",
    "ax.set_xticklabels(ax.get_xticklabels(), rotation=90)"
   ]
  },
  {
   "cell_type": "markdown",
   "id": "18f3b8c4",
   "metadata": {},
   "source": [
    "## Smallest Species\n",
    "\n",
    "Inspired by our lesson https://eeob-biodata.github.io/BCB546X-python/03-starting-with-data/\n",
    "How to print just the first row of grouped data https://www.delftstack.com/howto/python-pandas/get-first-row-of-dataframe-pandas/"
   ]
  },
  {
   "cell_type": "code",
   "execution_count": 13,
   "id": "ac56ecd5",
   "metadata": {},
   "outputs": [],
   "source": [
    "sorted_data = penguins_df_copy.groupby('mass')"
   ]
  },
  {
   "cell_type": "code",
   "execution_count": 14,
   "id": "a652f92b",
   "metadata": {},
   "outputs": [
    {
     "data": {
      "text/html": [
       "<div>\n",
       "<style scoped>\n",
       "    .dataframe tbody tr th:only-of-type {\n",
       "        vertical-align: middle;\n",
       "    }\n",
       "\n",
       "    .dataframe tbody tr th {\n",
       "        vertical-align: top;\n",
       "    }\n",
       "\n",
       "    .dataframe thead th {\n",
       "        text-align: right;\n",
       "    }\n",
       "</style>\n",
       "<table border=\"1\" class=\"dataframe\">\n",
       "  <thead>\n",
       "    <tr style=\"text-align: right;\">\n",
       "      <th></th>\n",
       "      <th>species</th>\n",
       "      <th>mol_weight</th>\n",
       "      <th>gc_count</th>\n",
       "    </tr>\n",
       "    <tr>\n",
       "      <th>mass</th>\n",
       "      <th></th>\n",
       "      <th></th>\n",
       "      <th></th>\n",
       "    </tr>\n",
       "  </thead>\n",
       "  <tbody>\n",
       "    <tr>\n",
       "      <th>1.60</th>\n",
       "      <td>Eudyptula minor</td>\n",
       "      <td>42491.6408</td>\n",
       "      <td>49.256343</td>\n",
       "    </tr>\n",
       "    <tr>\n",
       "      <th>2.80</th>\n",
       "      <td>Eudyptes chrysocome</td>\n",
       "      <td>42475.5753</td>\n",
       "      <td>51.181102</td>\n",
       "    </tr>\n",
       "    <tr>\n",
       "      <th>3.20</th>\n",
       "      <td>Spheniscus demersus</td>\n",
       "      <td>42431.5490</td>\n",
       "      <td>48.293963</td>\n",
       "    </tr>\n",
       "    <tr>\n",
       "      <th>3.40</th>\n",
       "      <td>Spheniscus magellanicus</td>\n",
       "      <td>42459.6021</td>\n",
       "      <td>48.206474</td>\n",
       "    </tr>\n",
       "    <tr>\n",
       "      <th>4.10</th>\n",
       "      <td>Pygoscelis antarctica</td>\n",
       "      <td>42404.5423</td>\n",
       "      <td>47.769029</td>\n",
       "    </tr>\n",
       "    <tr>\n",
       "      <th>4.25</th>\n",
       "      <td>Eudyptes sclateri</td>\n",
       "      <td>42475.5753</td>\n",
       "      <td>50.831146</td>\n",
       "    </tr>\n",
       "    <tr>\n",
       "      <th>4.50</th>\n",
       "      <td>Eudyptes chrysolophus</td>\n",
       "      <td>42445.5493</td>\n",
       "      <td>50.918635</td>\n",
       "    </tr>\n",
       "    <tr>\n",
       "      <th>4.60</th>\n",
       "      <td>Pygoscelis adeliae</td>\n",
       "      <td>42458.6140</td>\n",
       "      <td>49.081365</td>\n",
       "    </tr>\n",
       "    <tr>\n",
       "      <th>4.75</th>\n",
       "      <td>Spheniscus humboldti</td>\n",
       "      <td>42399.5520</td>\n",
       "      <td>49.256343</td>\n",
       "    </tr>\n",
       "    <tr>\n",
       "      <th>6.10</th>\n",
       "      <td>Pygoscelis papua</td>\n",
       "      <td>42595.8759</td>\n",
       "      <td>47.156605</td>\n",
       "    </tr>\n",
       "    <tr>\n",
       "      <th>13.40</th>\n",
       "      <td>Aptenodytes patagonicus</td>\n",
       "      <td>42563.7067</td>\n",
       "      <td>49.693788</td>\n",
       "    </tr>\n",
       "    <tr>\n",
       "      <th>28.00</th>\n",
       "      <td>Aptenodytes forsteri</td>\n",
       "      <td>42459.6021</td>\n",
       "      <td>48.381452</td>\n",
       "    </tr>\n",
       "  </tbody>\n",
       "</table>\n",
       "</div>"
      ],
      "text/plain": [
       "                       species  mol_weight   gc_count\n",
       "mass                                                 \n",
       "1.60           Eudyptula minor  42491.6408  49.256343\n",
       "2.80       Eudyptes chrysocome  42475.5753  51.181102\n",
       "3.20       Spheniscus demersus  42431.5490  48.293963\n",
       "3.40   Spheniscus magellanicus  42459.6021  48.206474\n",
       "4.10     Pygoscelis antarctica  42404.5423  47.769029\n",
       "4.25         Eudyptes sclateri  42475.5753  50.831146\n",
       "4.50     Eudyptes chrysolophus  42445.5493  50.918635\n",
       "4.60        Pygoscelis adeliae  42458.6140  49.081365\n",
       "4.75      Spheniscus humboldti  42399.5520  49.256343\n",
       "6.10          Pygoscelis papua  42595.8759  47.156605\n",
       "13.40  Aptenodytes patagonicus  42563.7067  49.693788\n",
       "28.00     Aptenodytes forsteri  42459.6021  48.381452"
      ]
     },
     "execution_count": 14,
     "metadata": {},
     "output_type": "execute_result"
    }
   ],
   "source": [
    "sorted_data.min()"
   ]
  },
  {
   "cell_type": "markdown",
   "id": "b13ed571",
   "metadata": {},
   "source": [
    "## Q1 - Smallest mass species?"
   ]
  },
  {
   "cell_type": "code",
   "execution_count": 15,
   "id": "de9fe1ee",
   "metadata": {},
   "outputs": [
    {
     "name": "stdout",
     "output_type": "stream",
     "text": [
      "The smallest species is:\n",
      "              species  mol_weight   gc_count\n",
      "mass                                        \n",
      "1.6   Eudyptula minor  42491.6408  49.256343\n"
     ]
    }
   ],
   "source": [
    "# Sort my minimum and use iloc to extract first item\n",
    "df = sorted_data.min()\n",
    "row_1=df.iloc[0:1]\n",
    "print(\"The smallest species is:\")\n",
    "print(row_1)"
   ]
  },
  {
   "cell_type": "markdown",
   "id": "344b1d1a",
   "metadata": {},
   "source": [
    "## Q2 - Range of smallest mass species?\n",
    "\n",
    "The range of the smallest species is endemic to Australia, New Zealand, and the Pacific Ocean. They are found around the southern Austrailian coast, South Solitary Islands, and coasts of New Zealand. Source: https://animaldiversity.org/accounts/Eudyptula_minor/#geographic_range"
   ]
  },
  {
   "cell_type": "markdown",
   "id": "3e4e5f69",
   "metadata": {},
   "source": [
    "## 9. Visualization with Molecular Weight and GC Content\n",
    "\n",
    "Inspired from class https://eeob-biodata.github.io/BCB546X-python/05-seaborn-viz/"
   ]
  },
  {
   "cell_type": "code",
   "execution_count": 16,
   "id": "aeb8c1f8",
   "metadata": {},
   "outputs": [
    {
     "data": {
      "text/plain": [
       "<seaborn.axisgrid.FacetGrid at 0x1c1bdc05e20>"
      ]
     },
     "execution_count": 16,
     "metadata": {},
     "output_type": "execute_result"
    },
    {
     "data": {
      "image/png": "[encoded data removed]",
      "text/plain": [
       "<Figure size 1027.72x576 with 1 Axes>"
      ]
     },
     "metadata": {},
     "output_type": "display_data"
    }
   ],
   "source": [
    "# Adjusted alpha to make the diamonds a bit darker and easier to see, colored by species\n",
    "my_fig = sns.lmplot(x=\"gc_count\", y=\"mol_weight\", data=penguins_df_copy, \n",
    "                    fit_reg=False, height=8, aspect=1.5, \n",
    "                    scatter_kws={'alpha':0.8,\"s\": 50}, \n",
    "                    hue='species', markers='D')\n",
    "my_fig.set_axis_labels('GC Content (%)', 'Molecular Weight')"
   ]
  },
  {
   "cell_type": "markdown",
   "id": "ee364e66",
   "metadata": {},
   "source": [
    "## 10. Save new dataframe\n",
    "\n",
    "Inspired by: https://towardsdatascience.com/how-to-export-pandas-dataframe-to-csv-2038e43d9c03"
   ]
  },
  {
   "cell_type": "code",
   "execution_count": 17,
   "id": "565a0580",
   "metadata": {},
   "outputs": [],
   "source": [
    "penguins_df_copy.to_csv('penguins_mass_cytb.csv')"
   ]
  },
  {
   "cell_type": "markdown",
   "id": "99671165",
   "metadata": {},
   "source": [
    "# 11. Get Codon Usage from Sequence\n",
    "\n",
    "Inpsired by: https://stackoverflow.com/questions/5774099/defining-a-function-that-counts-relative-frequency-of-amino-acids"
   ]
  },
  {
   "cell_type": "code",
   "execution_count": 18,
   "id": "3c3b1295",
   "metadata": {},
   "outputs": [],
   "source": [
    "# Copy desired sequence to become \"rna\"\n",
    "rna = (\"ATGGCCCCAAATCTCCGAAAATCCCATCCCCTCCTAAAAATAATTAATAACTCCCTAATCGACCTGCCCACCCCATCAAACATCTCTGCCTGATGAAACTTCGGATCTCTCCTAGGCATCTGCCTAACTACACAAATTTTAACCGGCCTCCTACTAGCTATACACTACACTGCAGACACAACCCTAGCCTTCTCCTCAGTCGCCCACACATGCCGAAACGTACAGTACGGCTGACTGATCCGCAACCTACATGCAAACGGAGCATCATTCTTCTTCATCTGCATCTATCTCCACATTGGCCGTGGATTTTACTATGGCTCCTATCTATACAAAGAAACCTGAAACACAGGCATTATCCTCCTACTCACCCTCATGGCAACCGCCTTCGTAGGCTACGTCCTACCATGAGGACAAATATCTTTCTGAGGAGCCACAGTCATTACCAACTTATTCTCAGCCATCCCTTACATTGGCCAAACCCTCGTAGAATGGACCTGAGGTGGCTTTTCAGTAGACAACCCCACATTAACCCGATTTTTCGCACTACACTTCCTCCTTCCCTTCATAATCGCAGGCCTCACCCTCATCCACCTCACCTTCCTCCACGAATCAGGCTCAAATAACCCACTGGGCATCGTAGCTAACTCCGATAAAATCCCATTCCACCCCTACTACTCCACAAAAGACATCCTAGGATTCGCACTCATACTTCTCCCACTAACAACCCTTGCCCTATTCTCCCCCAACCTACTAGGAGACCCAGAAAACTTCACCCCAGCAAACCCACTAGTCACACCCCCACACATCAAACCAGAATGATACTTCCTATTTGCATACGCTATCCTACGCTCAATCCCCAACAAACTAGGAGGAGTCCTTGCCCTAGCAGCATCCGTGCTAATCCTATTCCTAATCCCTCTCCTCCACAAATCCAAGCAACGCACAATAGCTTTCCGCCCTCTCTCCCAACTCCTATTCTGAGCCCTAGTAGCCAATCTCATTATCCTAACATGAGTAGGTAGCCAACCAGTAGAACACCCCTTCATCATCATCGGCCAACTAGCCTCCCTCACTTACTTCACCACCCTCCTGATCCTCTTCCCCATTGCTGGGGCCCTAGAAAACAAAATACTCAACCATTAA\")\n",
    "seq = rna"
   ]
  },
  {
   "cell_type": "code",
   "execution_count": 19,
   "id": "70d88eed",
   "metadata": {},
   "outputs": [],
   "source": [
    "# RNA \"degernated\" codon table from from http://en.wikipedia.org/wiki/Genetic_code\n",
    "degenerated = (('GCU', 'GCC', 'GCA', 'GCG'),\n",
    "               ('UUA', 'UUG', 'CUU', 'CUC', 'CUA', 'CUG'),\n",
    "               ('CGU', 'CGC', 'CGA', 'CGG', 'AGA', 'AGG'),\n",
    "               ('AAA', 'AAG'), ('AAU', 'AAC'), ('GAU', 'GAC'),\n",
    "               ('UUU', 'UUC'), ('UGU', 'UGC'), ('CCU', 'CCC', 'CCA', 'CCG'),\n",
    "               ('CAA', 'CAG'), ('UCU', 'UCC', 'UCA', 'UCG', 'AGU', 'AGC'),\n",
    "               ('GAA', 'GAG'), ('ACU', 'ACC', 'ACA', 'ACG'),\n",
    "               ('GGU', 'GGC', 'GGA', 'GGG'), ('CAU', 'CAC'), ('UAU', 'UAC'),\n",
    "               ('AUU', 'AUC', 'AUA'), ('GUU', 'GUC', 'GUA', 'GUG'),\n",
    "               ('UAA', 'UGA', 'UAG'))"
   ]
  },
  {
   "cell_type": "code",
   "execution_count": 20,
   "id": "6f61099f",
   "metadata": {},
   "outputs": [],
   "source": [
    "# Prepare dictionary \"degen_dict\" to query and count codons\n",
    "degen_dict = {}\n",
    "for codons in degenerated:\n",
    "    for codon in codons:\n",
    "        degen_dict[codon] = codons"
   ]
  },
  {
   "cell_type": "code",
   "execution_count": 21,
   "id": "85893ed9",
   "metadata": {},
   "outputs": [],
   "source": [
    "# Query codons\n",
    "max_seq = len(seq)\n",
    "query_codons = [seq[i:i+3] for i in range(0, max_seq, 3)]"
   ]
  },
  {
   "cell_type": "code",
   "execution_count": 22,
   "id": "f1928477",
   "metadata": {},
   "outputs": [],
   "source": [
    "# Count codons\n",
    "counts = defaultdict(int)\n",
    "for codon in query_codons:\n",
    "    counts[codon] +=1"
   ]
  },
  {
   "cell_type": "code",
   "execution_count": 23,
   "id": "848d8edd",
   "metadata": {},
   "outputs": [
    {
     "name": "stdout",
     "output_type": "stream",
     "text": [
      "ATG 1.0\n",
      "GCC 0.5416666666666666\n",
      "CCA 0.5454545454545454\n",
      "AAT 1.0\n",
      "CTC 1.0\n",
      "CGA 0.42857142857142855\n",
      "AAA 0.9\n",
      "TCC 1.0\n",
      "CAT 1.0\n",
      "CCC 0.45454545454545453\n",
      "CTC 1.0\n",
      "CTA 1.0\n",
      "AAA 0.9\n",
      "ATA 1.0\n",
      "ATT 1.0\n",
      "AAT 1.0\n",
      "AAC 1.0\n",
      "TCC 1.0\n",
      "CTA 1.0\n",
      "ATC 1.0\n",
      "GAC 1.0\n",
      "CTG 1.0\n",
      "CCC 0.45454545454545453\n",
      "ACC 0.5925925925925926\n",
      "CCA 0.5454545454545454\n",
      "TCA 1.0\n",
      "AAC 1.0\n",
      "ATC 1.0\n",
      "TCT 1.0\n",
      "GCC 0.5416666666666666\n",
      "TGA 1.0\n",
      "TGA 1.0\n",
      "AAC 1.0\n",
      "TTC 1.0\n",
      "GGA 0.391304347826087\n",
      "TCT 1.0\n",
      "CTC 1.0\n",
      "CTA 1.0\n",
      "GGC 0.5652173913043478\n",
      "ATC 1.0\n",
      "TGC 1.0\n",
      "CTA 1.0\n",
      "ACT 1.0\n",
      "ACA 0.4074074074074074\n",
      "CAA 0.875\n",
      "ATT 1.0\n",
      "TTA 1.0\n",
      "ACC 0.5925925925925926\n",
      "GGC 0.5652173913043478\n",
      "CTC 1.0\n",
      "CTA 1.0\n",
      "CTA 1.0\n",
      "GCT 1.0\n",
      "ATA 1.0\n",
      "CAC 1.0\n",
      "TAC 1.0\n",
      "ACT 1.0\n",
      "GCA 0.4583333333333333\n",
      "GAC 1.0\n",
      "ACA 0.4074074074074074\n",
      "ACC 0.5925925925925926\n",
      "CTA 1.0\n",
      "GCC 0.5416666666666666\n",
      "TTC 1.0\n",
      "TCC 1.0\n",
      "TCA 1.0\n",
      "GTC 1.0\n",
      "GCC 0.5416666666666666\n",
      "CAC 1.0\n",
      "ACA 0.4074074074074074\n",
      "TGC 1.0\n",
      "CGA 0.42857142857142855\n",
      "AAC 1.0\n",
      "GTA 1.0\n",
      "CAG 0.125\n",
      "TAC 1.0\n",
      "GGC 0.5652173913043478\n",
      "TGA 1.0\n",
      "CTG 1.0\n",
      "ATC 1.0\n",
      "CGC 0.5714285714285714\n",
      "AAC 1.0\n",
      "CTA 1.0\n",
      "CAT 1.0\n",
      "GCA 0.4583333333333333\n",
      "AAC 1.0\n",
      "GGA 0.391304347826087\n",
      "GCA 0.4583333333333333\n",
      "TCA 1.0\n",
      "TTC 1.0\n",
      "TTC 1.0\n",
      "TTC 1.0\n",
      "ATC 1.0\n",
      "TGC 1.0\n",
      "ATC 1.0\n",
      "TAT 1.0\n",
      "CTC 1.0\n",
      "CAC 1.0\n",
      "ATT 1.0\n",
      "GGC 0.5652173913043478\n",
      "CGT 1.0\n",
      "GGA 0.391304347826087\n",
      "TTT 1.0\n",
      "TAC 1.0\n",
      "TAT 1.0\n",
      "GGC 0.5652173913043478\n",
      "TCC 1.0\n",
      "TAT 1.0\n",
      "CTA 1.0\n",
      "TAC 1.0\n",
      "AAA 0.9\n",
      "GAA 1.0\n",
      "ACC 0.5925925925925926\n",
      "TGA 1.0\n",
      "AAC 1.0\n",
      "ACA 0.4074074074074074\n",
      "GGC 0.5652173913043478\n",
      "ATT 1.0\n",
      "ATC 1.0\n",
      "CTC 1.0\n",
      "CTA 1.0\n",
      "CTC 1.0\n",
      "ACC 0.5925925925925926\n",
      "CTC 1.0\n",
      "ATG 1.0\n",
      "GCA 0.4583333333333333\n",
      "ACC 0.5925925925925926\n",
      "GCC 0.5416666666666666\n",
      "TTC 1.0\n",
      "GTA 1.0\n",
      "GGC 0.5652173913043478\n",
      "TAC 1.0\n",
      "GTC 1.0\n",
      "CTA 1.0\n",
      "CCA 0.5454545454545454\n",
      "TGA 1.0\n",
      "GGA 0.391304347826087\n",
      "CAA 0.875\n",
      "ATA 1.0\n",
      "TCT 1.0\n",
      "TTC 1.0\n",
      "TGA 1.0\n",
      "GGA 0.391304347826087\n",
      "GCC 0.5416666666666666\n",
      "ACA 0.4074074074074074\n",
      "GTC 1.0\n",
      "ATT 1.0\n",
      "ACC 0.5925925925925926\n",
      "AAC 1.0\n",
      "TTA 1.0\n",
      "TTC 1.0\n",
      "TCA 1.0\n",
      "GCC 0.5416666666666666\n",
      "ATC 1.0\n",
      "CCT 1.0\n",
      "TAC 1.0\n",
      "ATT 1.0\n",
      "GGC 0.5652173913043478\n",
      "CAA 0.875\n",
      "ACC 0.5925925925925926\n",
      "CTC 1.0\n",
      "GTA 1.0\n",
      "GAA 1.0\n",
      "TGG 1.0\n",
      "ACC 0.5925925925925926\n",
      "TGA 1.0\n",
      "GGT 1.0\n",
      "GGC 0.5652173913043478\n",
      "TTT 1.0\n",
      "TCA 1.0\n",
      "GTA 1.0\n",
      "GAC 1.0\n",
      "AAC 1.0\n",
      "CCC 0.45454545454545453\n",
      "ACA 0.4074074074074074\n",
      "TTA 1.0\n",
      "ACC 0.5925925925925926\n",
      "CGA 0.42857142857142855\n",
      "TTT 1.0\n",
      "TTC 1.0\n",
      "GCA 0.4583333333333333\n",
      "CTA 1.0\n",
      "CAC 1.0\n",
      "TTC 1.0\n",
      "CTC 1.0\n",
      "CTT 1.0\n",
      "CCC 0.45454545454545453\n",
      "TTC 1.0\n",
      "ATA 1.0\n",
      "ATC 1.0\n",
      "GCA 0.4583333333333333\n",
      "GGC 0.5652173913043478\n",
      "CTC 1.0\n",
      "ACC 0.5925925925925926\n",
      "CTC 1.0\n",
      "ATC 1.0\n",
      "CAC 1.0\n",
      "CTC 1.0\n",
      "ACC 0.5925925925925926\n",
      "TTC 1.0\n",
      "CTC 1.0\n",
      "CAC 1.0\n",
      "GAA 1.0\n",
      "TCA 1.0\n",
      "GGC 0.5652173913043478\n",
      "TCA 1.0\n",
      "AAT 1.0\n",
      "AAC 1.0\n",
      "CCA 0.5454545454545454\n",
      "CTG 1.0\n",
      "GGC 0.5652173913043478\n",
      "ATC 1.0\n",
      "GTA 1.0\n",
      "GCT 1.0\n",
      "AAC 1.0\n",
      "TCC 1.0\n",
      "GAT 1.0\n",
      "AAA 0.9\n",
      "ATC 1.0\n",
      "CCA 0.5454545454545454\n",
      "TTC 1.0\n",
      "CAC 1.0\n",
      "CCC 0.45454545454545453\n",
      "TAC 1.0\n",
      "TAC 1.0\n",
      "TCC 1.0\n",
      "ACA 0.4074074074074074\n",
      "AAA 0.9\n",
      "GAC 1.0\n",
      "ATC 1.0\n",
      "CTA 1.0\n",
      "GGA 0.391304347826087\n",
      "TTC 1.0\n",
      "GCA 0.4583333333333333\n",
      "CTC 1.0\n",
      "ATA 1.0\n",
      "CTT 1.0\n",
      "CTC 1.0\n",
      "CCA 0.5454545454545454\n",
      "CTA 1.0\n",
      "ACA 0.4074074074074074\n",
      "ACC 0.5925925925925926\n",
      "CTT 1.0\n",
      "GCC 0.5416666666666666\n",
      "CTA 1.0\n",
      "TTC 1.0\n",
      "TCC 1.0\n",
      "CCC 0.45454545454545453\n",
      "AAC 1.0\n",
      "CTA 1.0\n",
      "CTA 1.0\n",
      "GGA 0.391304347826087\n",
      "GAC 1.0\n",
      "CCA 0.5454545454545454\n",
      "GAA 1.0\n",
      "AAC 1.0\n",
      "TTC 1.0\n",
      "ACC 0.5925925925925926\n",
      "CCA 0.5454545454545454\n",
      "GCA 0.4583333333333333\n",
      "AAC 1.0\n",
      "CCA 0.5454545454545454\n",
      "CTA 1.0\n",
      "GTC 1.0\n",
      "ACA 0.4074074074074074\n",
      "CCC 0.45454545454545453\n",
      "CCA 0.5454545454545454\n",
      "CAC 1.0\n",
      "ATC 1.0\n",
      "AAA 0.9\n",
      "CCA 0.5454545454545454\n",
      "GAA 1.0\n",
      "TGA 1.0\n",
      "TAC 1.0\n",
      "TTC 1.0\n",
      "CTA 1.0\n",
      "TTT 1.0\n",
      "GCA 0.4583333333333333\n",
      "TAC 1.0\n",
      "GCT 1.0\n",
      "ATC 1.0\n",
      "CTA 1.0\n",
      "CGC 0.5714285714285714\n",
      "TCA 1.0\n",
      "ATC 1.0\n",
      "CCC 0.45454545454545453\n",
      "AAC 1.0\n",
      "AAA 0.9\n",
      "CTA 1.0\n",
      "GGA 0.391304347826087\n",
      "GGA 0.391304347826087\n",
      "GTC 1.0\n",
      "CTT 1.0\n",
      "GCC 0.5416666666666666\n",
      "CTA 1.0\n",
      "GCA 0.4583333333333333\n",
      "GCA 0.4583333333333333\n",
      "TCC 1.0\n",
      "GTG 1.0\n",
      "CTA 1.0\n",
      "ATC 1.0\n",
      "CTA 1.0\n",
      "TTC 1.0\n",
      "CTA 1.0\n",
      "ATC 1.0\n",
      "CCT 1.0\n",
      "CTC 1.0\n",
      "CTC 1.0\n",
      "CAC 1.0\n",
      "AAA 0.9\n",
      "TCC 1.0\n",
      "AAG 0.1\n",
      "CAA 0.875\n",
      "CGC 0.5714285714285714\n",
      "ACA 0.4074074074074074\n",
      "ATA 1.0\n",
      "GCT 1.0\n",
      "TTC 1.0\n",
      "CGC 0.5714285714285714\n",
      "CCT 1.0\n",
      "CTC 1.0\n",
      "TCC 1.0\n",
      "CAA 0.875\n",
      "CTC 1.0\n",
      "CTA 1.0\n",
      "TTC 1.0\n",
      "TGA 1.0\n",
      "GCC 0.5416666666666666\n",
      "CTA 1.0\n",
      "GTA 1.0\n",
      "GCC 0.5416666666666666\n",
      "AAT 1.0\n",
      "CTC 1.0\n",
      "ATT 1.0\n",
      "ATC 1.0\n",
      "CTA 1.0\n",
      "ACA 0.4074074074074074\n",
      "TGA 1.0\n",
      "GTA 1.0\n",
      "GGT 1.0\n",
      "AGC 1.0\n",
      "CAA 0.875\n",
      "CCA 0.5454545454545454\n",
      "GTA 1.0\n",
      "GAA 1.0\n",
      "CAC 1.0\n",
      "CCC 0.45454545454545453\n",
      "TTC 1.0\n",
      "ATC 1.0\n",
      "ATC 1.0\n",
      "ATC 1.0\n",
      "GGC 0.5652173913043478\n",
      "CAA 0.875\n",
      "CTA 1.0\n",
      "GCC 0.5416666666666666\n",
      "TCC 1.0\n",
      "CTC 1.0\n",
      "ACT 1.0\n",
      "TAC 1.0\n",
      "TTC 1.0\n",
      "ACC 0.5925925925925926\n",
      "ACC 0.5925925925925926\n",
      "CTC 1.0\n",
      "CTG 1.0\n",
      "ATC 1.0\n",
      "CTC 1.0\n",
      "TTC 1.0\n",
      "CCC 0.45454545454545453\n",
      "ATT 1.0\n",
      "GCT 1.0\n",
      "GGG 0.043478260869565216\n",
      "GCC 0.5416666666666666\n",
      "CTA 1.0\n",
      "GAA 1.0\n",
      "AAC 1.0\n",
      "AAA 0.9\n",
      "ATA 1.0\n",
      "CTC 1.0\n",
      "AAC 1.0\n",
      "CAT 1.0\n",
      "TAA 1.0\n"
     ]
    }
   ],
   "source": [
    "# \"data\" actually calculates the frequency of codons\n",
    "data = {}\n",
    "for codon in query_codons:\n",
    "    if codon in  degen_dict:\n",
    "        totals = sum(counts[deg] for deg in degen_dict[codon])\n",
    "        frequency = float(counts[codon]) / totals\n",
    "    else:\n",
    "        frequency = 1.00\n",
    "\n",
    "    data[codon] = frequency\n",
    "    print(codon,frequency)"
   ]
  }
 ],
 "metadata": {
  "kernelspec": {
   "display_name": "Python 3 (ipykernel)",
   "language": "python",
   "name": "python3"
  },
  "language_info": {
   "codemirror_mode": {
    "name": "ipython",
    "version": 3
   },
   "file_extension": ".py",
   "mimetype": "text/x-python",
   "name": "python",
   "nbconvert_exporter": "python",
   "pygments_lexer": "ipython3",
   "version": "3.9.7"
  }
 },
 "nbformat": 4,
 "nbformat_minor": 5
}
